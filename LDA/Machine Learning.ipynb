{
 "cells": [
  {
   "cell_type": "code",
   "execution_count": 329,
   "metadata": {
    "collapsed": true
   },
   "outputs": [],
   "source": [
    "import numpy as np\n",
    "import pandas as pd\n",
    "import matplotlib.pyplot as plt\n",
    "import warnings\n",
    "warnings.filterwarnings('ignore')"
   ]
  },
  {
   "cell_type": "markdown",
   "metadata": {},
   "source": [
    "Question 1(a): Implement Linear Discriminant Analysis"
   ]
  },
  {
   "cell_type": "code",
   "execution_count": 330,
   "metadata": {},
   "outputs": [],
   "source": [
    "class LDA(object):\n",
    "    def __init__(self,input_matrix):\n",
    "        self.class_1 = np.ones(20)\n",
    "        self.class_0 = np.zeros(20)\n",
    "        self.targets = np.concatenate((self.class_0, self.class_1))\n",
    "        data = np.column_stack((input_matrix, self.targets))\n",
    "        self.input = np.copy(data)\n",
    "    \n",
    "    def get_eigenvalue_eigenvector(self,WStar):         \n",
    "        return np.linalg.eig(np.array(WStar))\n",
    "        \n",
    "    \n",
    "    \n",
    "    def perform_LDA(self):\n",
    "        '''Performs LDA on the given input_matrix (ground truth is last column)'''\n",
    "        x = self.input[:,:-1]\n",
    "        #print(len(np.unique(self.input[:,-1])))\n",
    "        total_classes = len(np.unique(self.input[:,-1]))\n",
    "        mean_vector = []\n",
    "\n",
    "        for k in range(0, total_classes):\n",
    "            mu_for_class = np.sum(self.input[self.input[:,-1] == k], axis = 0)/len((self.input[self.input[:,-1] == k]))\n",
    "            mean_vector.append(np.delete(mu_for_class,self.input.shape[1]-1,0)) \n",
    "\n",
    "            \n",
    "        #print(mean_vector)\n",
    "        #Calculate overall mean of the data..\n",
    "        overall_mean = np.sum(x, axis=0)/len(x)\n",
    "        #Calculate within class covariance matrix  \n",
    "        \n",
    "        S_W = np.zeros((x.shape[1],x.shape[1]))\n",
    "        for k in range(0, total_classes):\n",
    "            xc = self.input[self.input[:,-1] == k][:,:-1]\n",
    "            sc = np.zeros((x.shape[1],x.shape[1]))\n",
    "            for m in range (0,xc.shape[0]):\n",
    "                x_minus_mean = (xc[m] - mean_vector[k]).reshape(x.shape[1],1)\n",
    "                x_minus_mean_transpose = x_minus_mean.T \n",
    "                sc += np.matmul(x_minus_mean,x_minus_mean_transpose) \n",
    "            S_W +=  sc\n",
    "\n",
    "        #Calculating S_between\n",
    "        S_B = np.zeros((x.shape[1],x.shape[1]))\n",
    "        for k in range(0, total_classes):\n",
    "            mean_difference = (mean_vector[k] - overall_mean).reshape(overall_mean.shape[0],1)\n",
    "            mean_difference_T = mean_difference.T;\n",
    "            S_B += np.matmul(mean_difference,mean_difference_T)\n",
    " \n",
    "\n",
    "        W_star = np.matmul(np.linalg.inv(S_W),S_B)\n",
    "\n",
    "        #Get EigenValues and EigenVectors\n",
    "        eigen_values, eigen_vectors = self.get_eigenvalue_eigenvector(W_star)\n",
    "\n",
    "        #Sorting\n",
    "        indexes = eigen_values.argsort()[::-1]\n",
    "        eigen_value = eigen_values[indexes]\n",
    "        pcs = eigen_vectors[:,indexes]\n",
    "\n",
    "        \n",
    "        output = np.dot(x,pcs[:,0:total_classes-1])\n",
    "\n",
    "        return mean_vector,S_W,S_B, W_star,output "
   ]
  },
  {
   "cell_type": "code",
   "execution_count": 331,
   "metadata": {},
   "outputs": [],
   "source": [
    "#importing the data\n",
    "df = pd.DataFrame.from_csv(\"SCLC_study_output_filtered_2.csv\")\n",
    "data_matrix = df.as_matrix()\n",
    "lda_object = LDA(data_matrix) #Handled initialization!\n",
    "mean,S_within,S_between, W_star, lda_output = lda_object.perform_LDA()\n"
   ]
  },
  {
   "cell_type": "markdown",
   "metadata": {},
   "source": [
    "Question 1(b). Compare Results with Sklearn"
   ]
  },
  {
   "cell_type": "code",
   "execution_count": 332,
   "metadata": {},
   "outputs": [
    {
     "data": {
      "image/png": "[encoded data removed]",
      "text/plain": [
       "<matplotlib.figure.Figure at 0x7fc7c4c9dcf8>"
      ]
     },
     "metadata": {},
     "output_type": "display_data"
    },
    {
     "data": {
      "image/png": "[encoded data removed]",
      "text/plain": [
       "<matplotlib.figure.Figure at 0x7fc7d3241cc0>"
      ]
     },
     "metadata": {},
     "output_type": "display_data"
    }
   ],
   "source": [
    "from sklearn.discriminant_analysis import LinearDiscriminantAnalysis\n",
    "clf = LinearDiscriminantAnalysis()\n",
    "class_1 = np.ones(20)\n",
    "class_0 = np.zeros(20)\n",
    "classes = np.concatenate((class_0, class_1))\n",
    "clf.fit(data_matrix,classes)\n",
    "\n",
    "\n",
    "plt.figure(1)\n",
    "plt.xticks([])\n",
    "plt.yticks([])\n",
    "lda_op = clf.transform(data_matrix)\n",
    "plt.title('LDA from Scikit-learn')\n",
    "plt.scatter(lda_op[0:20], [0]*20,c='orange')\n",
    "plt.scatter(lda_op[20:40], [0]*20,c='green')\n",
    "plt.show()\n",
    "\n",
    "#Plotting the clusters from own LDA implementation\n",
    "plt.figure(2)\n",
    "plt.xticks([])\n",
    "plt.yticks([])\n",
    "plt.title(\"My LDA implementation\")\n",
    "plt.scatter(lda_output[0:20], [0]*20,c='orange')\n",
    "plt.scatter(lda_output[20:40], [0]*20,c='green')\n",
    "plt.show()\n",
    "\n"
   ]
  },
  {
   "cell_type": "markdown",
   "metadata": {},
   "source": [
    "Implementation of Neural Network"
   ]
  },
  {
   "cell_type": "code",
   "execution_count": 333,
   "metadata": {
    "collapsed": true
   },
   "outputs": [],
   "source": [
    "class My_NeuralNetwork():\n",
    "    def __init__(self,X,y,hidden_size):\n",
    "        self.input_layer_size = len(X)\n",
    "        self.output_layer_size = len(y) + 1 #for bias\n",
    "        self.hidden_layer_size = hidden_size\n",
    "        \n",
    "        #Initialize the weights (thetas)\n",
    "        self.theta_1 = np.random.uniform(0.0,1.0,(2,3))\n",
    "        self.theta_2 = np.random.uniform(0.0,1.0,(2,3))\n",
    "        self.a1 = X\n",
    "        self.a2 = 0\n",
    "        self.flag = 0\n",
    "        self.flag_2 = 0\n",
    "        self.a3 = 0\n",
    "        self.delta_3 = 0\n",
    "        self.delta_2 = 0\n",
    "        self.alpha = 0.01\n",
    "        self.costs = []\n",
    "        self.all_theta_1 = []\n",
    "        self.all_theta_2 = []\n",
    "    \n",
    "    def sigmoid(self,e,derivative=False):\n",
    "        '''Sigmoid Activation Function'''\n",
    "        if derivative == True:\n",
    "            return (e * (1-e))\n",
    "        return 1/(1+np.exp(-e))\n",
    "    \n",
    "    def forward_propogation(self):\n",
    "        '''Forward propogate values through the network'''\n",
    "        self.z2 = np.dot(self.theta_1,self.a1)\n",
    "        self.a2 = self.sigmoid(self.z2)\n",
    "        self.a2 = np.insert(arr=self.a2,values=[1],obj=0,axis=0) #Adding Bias\n",
    "        self.z3 = np.dot(self.theta_2,self.a2)\n",
    "        self.a3 = self.sigmoid(self.z3)   \n",
    "        self.a3 = np.insert(arr=self.a3,values=[1],obj=0,axis=0) #Adding Bias)\n",
    "    \n",
    "    def train_neural_network(self, X, y):\n",
    "\n",
    "        for i in range(1200):\n",
    "            self.forward_propogation()\n",
    "            self.delta_3 = self.a3[1:3,:] - y\n",
    "            cost = (np.sum(self.delta_3**2))/2\n",
    "            self.costs.append(cost)\n",
    "            self.delta_2 = (np.matmul(self.theta_2.T,self.delta_3) * (self.a3 * (1-self.a3)))[1:3,:]\n",
    "            big_delta_2 = np.dot(self.delta_3,self.a2.T)\n",
    "            big_delta_1 = np.dot(self.delta_2, self.a1.T)\n",
    "            self.theta_2 -= self.alpha*big_delta_2\n",
    "            self.theta_1 -= self.alpha*big_delta_1\n",
    "            self.all_theta_1.append(self.theta_1.copy())\n",
    "            self.all_theta_2.append(self.theta_2.copy())\n",
    "\n",
    "\n",
    "        "
   ]
  },
  {
   "cell_type": "code",
   "execution_count": 334,
   "metadata": {},
   "outputs": [
    {
     "data": {
      "image/png": "[encoded data removed]",
      "text/plain": [
       "<matplotlib.figure.Figure at 0x7fc7c4b5bcf8>"
      ]
     },
     "metadata": {},
     "output_type": "display_data"
    }
   ],
   "source": [
    "X = np.array([[1],[0.05],[0.1]])\n",
    "y = np.array([[0.01],[0.99]])\n",
    "nn = My_NeuralNetwork(X,y,2)\n",
    "nn.train_neural_network(X,y)\n",
    "import matplotlib.pyplot as plt\n",
    "plt.plot(range(0,1200),nn.costs)\n",
    "plt.title(\"Plotting Cost v/s Iterations (Learning Rate=0.01)\")\n",
    "plt.xlabel(\"Iterations\")\n",
    "plt.ylabel(\"Cost\")\n",
    "plt.show()\n",
    "\n",
    "\n",
    "#Print Cost vs Iterations (x axis)"
   ]
  },
  {
   "cell_type": "markdown",
   "metadata": {},
   "source": [
    "Plotting Theta_1 v/s Iterations"
   ]
  },
  {
   "cell_type": "code",
   "execution_count": 335,
   "metadata": {},
   "outputs": [
    {
     "data": {
      "text/plain": [
       "<matplotlib.text.Text at 0x7fc7bec5e1d0>"
      ]
     },
     "execution_count": 335,
     "metadata": {},
     "output_type": "execute_result"
    }
   ],
   "source": [
    "plt.figure(3)\n",
    "plt.title(\"Plot for Theta_1\")"
   ]
  },
  {
   "cell_type": "code",
   "execution_count": 336,
   "metadata": {},
   "outputs": [
    {
     "data": {
      "image/png": "[encoded data removed]",
      "text/plain": [
       "<matplotlib.figure.Figure at 0x7fc7becfe668>"
      ]
     },
     "metadata": {},
     "output_type": "display_data"
    }
   ],
   "source": [
    "theta_1 = []\n",
    "theta_2 = []\n",
    "theta_3 = []\n",
    "theta_4 = []\n",
    "theta_5 = []\n",
    "theta_6 = []\n",
    "\n",
    "for k in range(0,1200):\n",
    "    theta_1.append(nn.all_theta_1[k][0][0])\n",
    "    theta_2.append(nn.all_theta_1[k][0][1])\n",
    "    theta_3.append(nn.all_theta_1[k][0][2])\n",
    "    theta_4.append(nn.all_theta_1[k][1][0])\n",
    "    theta_5.append(nn.all_theta_1[k][1][1])\n",
    "    theta_6.append(nn.all_theta_1[k][1][2])\n",
    "\n",
    "plt.plot(range(0,1200),theta_1)\n",
    "plt.plot(range(0,1200),theta_2)\n",
    "plt.plot(range(0,1200),theta_3)\n",
    "plt.plot(range(0,1200),theta_4)\n",
    "plt.plot(range(0,1200),theta_5)\n",
    "plt.plot(range(0,1200),theta_6)\n",
    "plt.show()"
   ]
  },
  {
   "cell_type": "markdown",
   "metadata": {},
   "source": [
    "Plotting All Theta_2 v/s Iterations"
   ]
  },
  {
   "cell_type": "code",
   "execution_count": 337,
   "metadata": {},
   "outputs": [
    {
     "data": {
      "text/plain": [
       "<matplotlib.text.Text at 0x7fc7beb8c828>"
      ]
     },
     "execution_count": 337,
     "metadata": {},
     "output_type": "execute_result"
    }
   ],
   "source": [
    "plt.figure(4)\n",
    "plt.title(\"Plot for Theta_2 (Learning Rate = 0.01)\")"
   ]
  },
  {
   "cell_type": "code",
   "execution_count": 338,
   "metadata": {},
   "outputs": [
    {
     "data": {
      "image/png": "[encoded data removed]",
      "text/plain": [
       "<matplotlib.figure.Figure at 0x7fc7bec0b828>"
      ]
     },
     "metadata": {},
     "output_type": "display_data"
    }
   ],
   "source": [
    "theta_1 = []\n",
    "theta_2 = []\n",
    "theta_3 = []\n",
    "theta_4 = []\n",
    "theta_5 = []\n",
    "theta_6 = []\n",
    "\n",
    "for k in range(0,1200):\n",
    "    theta_1.append(nn.all_theta_2[k][0][0])\n",
    "    theta_2.append(nn.all_theta_2[k][0][1])\n",
    "    theta_3.append(nn.all_theta_2[k][0][2])\n",
    "    theta_4.append(nn.all_theta_2[k][1][0])\n",
    "    theta_5.append(nn.all_theta_2[k][1][1])\n",
    "    theta_6.append(nn.all_theta_2[k][1][2])\n",
    "\n",
    "plt.plot(range(0,1200),theta_1)\n",
    "plt.plot(range(0,1200),theta_2)\n",
    "plt.plot(range(0,1200),theta_3)\n",
    "plt.plot(range(0,1200),theta_4)\n",
    "plt.plot(range(0,1200),theta_5)\n",
    "plt.plot(range(0,1200),theta_6)\n",
    "plt.show()"
   ]
  },
  {
   "cell_type": "markdown",
   "metadata": {},
   "source": [
    "THANK YOU!"
   ]
  },
  {
   "cell_type": "code",
   "execution_count": null,
   "metadata": {
    "collapsed": true
   },
   "outputs": [],
   "source": []
  }
 ],
 "metadata": {
  "kernelspec": {
   "display_name": "Python 2",
   "language": "python",
   "name": "python2"
  },
  "language_info": {
   "codemirror_mode": {
    "name": "ipython",
    "version": 3
   },
   "file_extension": ".py",
   "mimetype": "text/x-python",
   "name": "python",
   "nbconvert_exporter": "python",
   "pygments_lexer": "ipython3",
   "version": "3.6.1"
  }
 },
 "nbformat": 4,
 "nbformat_minor": 2
}
